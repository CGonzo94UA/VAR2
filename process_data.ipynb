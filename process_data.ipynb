{
 "cells": [
  {
   "cell_type": "code",
   "execution_count": 1,
   "metadata": {},
   "outputs": [],
   "source": [
    "import numpy as np\n",
    "import pandas as pd"
   ]
  },
  {
   "cell_type": "code",
   "execution_count": 2,
   "metadata": {},
   "outputs": [
    {
     "name": "stdout",
     "output_type": "stream",
     "text": [
      "Index(['lasers', 'v', 'w'], dtype='object')\n",
      "lasers     object\n",
      "v         float64\n",
      "w         float64\n",
      "dtype: object\n",
      "lasers     object\n",
      "v         float64\n",
      "w         float64\n",
      "dtype: object\n"
     ]
    }
   ],
   "source": [
    "# Read the data/simple_data.csv file and save it to a dataframe. The first row is the name of the columns.\n",
    "data = pd.read_csv('data/simple_data.tsv', sep='\\t')\n",
    "print(data.columns)\n",
    "\n",
    "print(data.dtypes)\n",
    "# Remove the ( and ) characters from the 'lasers' column\n",
    "data['lasers'] = data['lasers'].apply(lambda x: x.replace('(', '').replace(')', ''))\n",
    "\n",
    "# Convertir la cadena en una lista utilizando split\n",
    "data['lasers'] = data['lasers'].apply(lambda x: list(map(float, x.split(','))))\n",
    "print(data.dtypes)"
   ]
  },
  {
   "cell_type": "code",
   "execution_count": 3,
   "metadata": {},
   "outputs": [
    {
     "name": "stdout",
     "output_type": "stream",
     "text": [
      "    laser_0   laser_1   laser_2   laser_3   laser_4   laser_5   laser_6  \\\n",
      "0  1.547417  1.547695  1.548456  1.549689  1.551408  1.553604  1.556287   \n",
      "1  1.547417  1.547695  1.548456  1.549689  1.551408  1.553604  1.556287   \n",
      "2  1.547417  1.547695  1.548456  1.549689  1.551408  1.553604  1.556287   \n",
      "3  1.547417  1.547695  1.548456  1.549689  1.551408  1.553604  1.556287   \n",
      "4  1.547417  1.547695  1.548456  1.549689  1.551408  1.553604  1.556287   \n",
      "\n",
      "    laser_7   laser_8   laser_9  ...  laser_170  laser_171  laser_172  \\\n",
      "0  1.559463  1.563129  1.567301  ...   1.573106   1.568969   1.565328   \n",
      "1  1.559463  1.563129  1.567301  ...   1.573106   1.568969   1.565328   \n",
      "2  1.559463  1.563129  1.567301  ...   1.573106   1.568969   1.565328   \n",
      "3  1.559463  1.563129  1.567301  ...   1.573106   1.568969   1.565328   \n",
      "4  1.559463  1.563129  1.567301  ...   1.573106   1.568969   1.565328   \n",
      "\n",
      "   laser_173  laser_174  laser_175  laser_176  laser_177  laser_178  laser_179  \n",
      "0   1.562186   1.559538   1.557375   1.555695   1.554498   1.553783   1.553541  \n",
      "1   1.562186   1.559538   1.557375   1.555695   1.554498   1.553783   1.553541  \n",
      "2   1.562186   1.559538   1.557375   1.555695   1.554498   1.553783   1.553541  \n",
      "3   1.562186   1.559538   1.557375   1.555695   1.554498   1.553783   1.553541  \n",
      "4   1.562186   1.559538   1.557375   1.555695   1.554498   1.553783   1.553541  \n",
      "\n",
      "[5 rows x 180 columns]\n"
     ]
    }
   ],
   "source": [
    "# Create a new dataframe with the 'lasers' column as the values of the dataframe, with 180 columns (one for each laser)\n",
    "lasers = pd.DataFrame(data['lasers'].values.tolist(), columns=[f'laser_{i}' for i in range(180)])\n",
    "print(lasers.head())\n",
    "\n",
    "# Change the inf values to 20\n",
    "lasers = lasers.replace([np.inf, -np.inf], 20)\n",
    "\n",
    "# Save the new dataframe to a file named 'data/lasers.tsv'\n",
    "lasers.to_csv('data/lasers.tsv', sep='\\t', index=False)"
   ]
  },
  {
   "cell_type": "code",
   "execution_count": 4,
   "metadata": {},
   "outputs": [],
   "source": [
    "# Read the w column from the original dataset\n",
    "w = data['w']\n",
    "\n",
    "# Save the w column to a file named 'data/w.tsv'\n",
    "w.to_csv('data/w.tsv', sep='\\t', index=False)"
   ]
  }
 ],
 "metadata": {
  "kernelspec": {
   "display_name": "Python 3",
   "language": "python",
   "name": "python3"
  },
  "language_info": {
   "codemirror_mode": {
    "name": "ipython",
    "version": 3
   },
   "file_extension": ".py",
   "mimetype": "text/x-python",
   "name": "python",
   "nbconvert_exporter": "python",
   "pygments_lexer": "ipython3",
   "version": "3.11.4"
  }
 },
 "nbformat": 4,
 "nbformat_minor": 2
}
