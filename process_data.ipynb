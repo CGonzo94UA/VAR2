{
 "cells": [
  {
   "cell_type": "code",
   "execution_count": 1,
   "metadata": {},
   "outputs": [],
   "source": [
    "import numpy as np\n",
    "import pandas as pd\n",
    "from sklearn.model_selection import train_test_split"
   ]
  },
  {
   "cell_type": "code",
   "execution_count": 5,
   "metadata": {},
   "outputs": [
    {
     "name": "stdout",
     "output_type": "stream",
     "text": [
      "Reading dataset/data/0_data.tsv\n",
      "Reading dataset/data/1_data.tsv\n",
      "Reading dataset/data/2_data.tsv\n"
     ]
    }
   ],
   "source": [
    "# Create an empty dataframe with columns 'lasers', 'v', 'w'\n",
    "df = pd.DataFrame(columns=['lasers', 'v', 'w'])\n",
    "num_files = 3\n",
    "# Read the files dataset/data/i_data.tsv from 0 to range\n",
    "for i in range(num_files):\n",
    "    print(f'Reading dataset/data/{i}_data.tsv')\n",
    "    data = pd.read_csv(f'dataset/data/{i}_data.tsv', sep='\\t')\n",
    "    data['lasers'] = data['lasers'].apply(lambda x: x.replace('(', '').replace(')', ''))\n",
    "    data['lasers'] = data['lasers'].apply(lambda x: list(map(float, x.split(','))))\n",
    "    # Append the data to the dataframe\n",
    "    df = pd.concat([df, data], ignore_index=True)"
   ]
  },
  {
   "cell_type": "code",
   "execution_count": 6,
   "metadata": {},
   "outputs": [
    {
     "name": "stdout",
     "output_type": "stream",
     "text": [
      "    laser_0   laser_1   laser_2   laser_3   laser_4   laser_5   laser_6  \\\n",
      "0  1.547417  1.547695  1.548456  1.549689  1.551408  1.553604  1.556287   \n",
      "1  1.547417  1.547695  1.548456  1.549689  1.551408  1.553604  1.556287   \n",
      "2  1.547417  1.547695  1.548456  1.549689  1.551408  1.553604  1.556287   \n",
      "3  1.547417  1.547695  1.548456  1.549689  1.551408  1.553604  1.556287   \n",
      "4  1.547417  1.547695  1.548456  1.549689  1.551408  1.553604  1.556287   \n",
      "\n",
      "    laser_7   laser_8   laser_9  ...  laser_170  laser_171  laser_172  \\\n",
      "0  1.559463  1.563129  1.567301  ...   1.573106   1.568969   1.565328   \n",
      "1  1.559463  1.563129  1.567301  ...   1.573106   1.568969   1.565328   \n",
      "2  1.559463  1.563129  1.567301  ...   1.573106   1.568969   1.565328   \n",
      "3  1.559463  1.563129  1.567301  ...   1.573106   1.568969   1.565328   \n",
      "4  1.559463  1.563129  1.567301  ...   1.573106   1.568969   1.565328   \n",
      "\n",
      "   laser_173  laser_174  laser_175  laser_176  laser_177  laser_178  laser_179  \n",
      "0   1.562186   1.559538   1.557375   1.555695   1.554498   1.553783   1.553541  \n",
      "1   1.562186   1.559538   1.557375   1.555695   1.554498   1.553783   1.553541  \n",
      "2   1.562186   1.559538   1.557375   1.555695   1.554498   1.553783   1.553541  \n",
      "3   1.562186   1.559538   1.557375   1.555695   1.554498   1.553783   1.553541  \n",
      "4   1.562186   1.559538   1.557375   1.555695   1.554498   1.553783   1.553541  \n",
      "\n",
      "[5 rows x 180 columns]\n",
      "laser_0       6\n",
      "laser_1       6\n",
      "laser_2       6\n",
      "laser_3       6\n",
      "laser_4      19\n",
      "             ..\n",
      "laser_175     3\n",
      "laser_176     0\n",
      "laser_177     0\n",
      "laser_178     0\n",
      "laser_179     0\n",
      "Length: 180, dtype: int64\n",
      "          laser_176     laser_177     laser_178     laser_179\n",
      "count  12022.000000  12022.000000  12022.000000  12022.000000\n",
      "mean       0.730483      0.732235      0.732038      0.731836\n",
      "std        0.746999      0.744087      0.743838      0.743571\n",
      "min        0.080658      0.080623      0.080612      0.080627\n",
      "25%        0.086155      0.089456      0.089415      0.089402\n",
      "50%        0.087087      0.090675      0.090630      0.090612\n",
      "75%        1.567972      1.566879      1.566414      1.566668\n",
      "max        2.484068      2.480703      2.478108      2.457208\n"
     ]
    }
   ],
   "source": [
    "# Create a new dataframe with the 'lasers' column as the values of the dataframe, with 180 columns (one for each laser)\n",
    "lasers = pd.DataFrame(df['lasers'].values.tolist(), columns=[f'laser_{i}' for i in range(180)])\n",
    "print(lasers.head())\n",
    "\n",
    "#Check inf values\n",
    "print(lasers.isin([np.inf, -np.inf]).sum())\n",
    "\n",
    "# Describe the columns laser_176, laser_177, laser_178, laser_179\n",
    "print(lasers[['laser_176', 'laser_177', 'laser_178', 'laser_179']].describe())"
   ]
  },
  {
   "cell_type": "code",
   "execution_count": 7,
   "metadata": {},
   "outputs": [],
   "source": [
    "# Change the inf values to 20\n",
    "lasers = lasers.replace([np.inf, -np.inf], 20)\n",
    "\n",
    "# Save the new dataframe to a file named 'data/lasers.tsv'\n",
    "lasers.to_csv('dataset/lasers.tsv', sep='\\t', index=False)"
   ]
  },
  {
   "cell_type": "code",
   "execution_count": 9,
   "metadata": {},
   "outputs": [
    {
     "name": "stdout",
     "output_type": "stream",
     "text": [
      "count    12022.000000\n",
      "mean         0.074695\n",
      "std          1.122612\n",
      "min         -1.869818\n",
      "25%         -1.207970\n",
      "50%          0.587583\n",
      "75%          1.138162\n",
      "max          1.696602\n",
      "Name: w, dtype: float64\n"
     ]
    }
   ],
   "source": [
    "# Read the w column from the original dataset\n",
    "w = df['w']\n",
    "\n",
    "print(w.describe())\n",
    "\n",
    "# Save the w column to a file named 'data/w.tsv'\n",
    "w.to_csv('dataset/w.tsv', sep='\\t', index=False)"
   ]
  },
  {
   "cell_type": "code",
   "execution_count": 10,
   "metadata": {},
   "outputs": [],
   "source": [
    "X = lasers\n",
    "y = w\n",
    "\n",
    "X_train, X_test, y_train, y_test = train_test_split(X, y, test_size=0.2, random_state=17)\n",
    "X_train.to_csv('dataset/X_train.tsv', sep='\\t', index=False)\n",
    "X_test.to_csv('dataset/X_test.tsv', sep='\\t', index=False)\n",
    "y_train.to_csv('dataset/y_train.tsv', sep='\\t', index=False)\n",
    "y_test.to_csv('dataset/y_test.tsv', sep='\\t', index=False)"
   ]
  }
 ],
 "metadata": {
  "kernelspec": {
   "display_name": "Python 3",
   "language": "python",
   "name": "python3"
  },
  "language_info": {
   "codemirror_mode": {
    "name": "ipython",
    "version": 3
   },
   "file_extension": ".py",
   "mimetype": "text/x-python",
   "name": "python",
   "nbconvert_exporter": "python",
   "pygments_lexer": "ipython3",
   "version": "3.11.4"
  }
 },
 "nbformat": 4,
 "nbformat_minor": 2
}
