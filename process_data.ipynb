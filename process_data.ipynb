{
 "cells": [
  {
   "cell_type": "code",
   "execution_count": 1,
   "metadata": {},
   "outputs": [],
   "source": [
    "import numpy as np\n",
    "import pandas as pd\n",
    "from sklearn.model_selection import train_test_split"
   ]
  },
  {
   "cell_type": "code",
   "execution_count": 2,
   "metadata": {},
   "outputs": [
    {
     "name": "stdout",
     "output_type": "stream",
     "text": [
      "Reading dataset/data/0_data.tsv\n",
      "Reading dataset/data/1_data.tsv\n",
      "Reading dataset/data/2_data.tsv\n"
     ]
    }
   ],
   "source": [
    "# Create an empty dataframe with columns 'lasers', 'v', 'w'\n",
    "df = pd.DataFrame(columns=['lasers', 'v', 'w'])\n",
    "num_files = 3\n",
    "# Read the files dataset/data/i_data.tsv from 0 to range\n",
    "for i in range(num_files):\n",
    "    print(f'Reading dataset/data/{i}_data.tsv')\n",
    "    data = pd.read_csv(f'dataset/data/{i}_data.tsv', sep='\\t')\n",
    "    data['lasers'] = data['lasers'].apply(lambda x: x.replace('(', '').replace(')', ''))\n",
    "    data['lasers'] = data['lasers'].apply(lambda x: list(map(float, x.split(','))))\n",
    "    # Append the data to the dataframe\n",
    "    df = pd.concat([df, data], ignore_index=True)"
   ]
  },
  {
   "cell_type": "code",
   "execution_count": 3,
   "metadata": {},
   "outputs": [],
   "source": [
    "# Shuffle the dataframe\n",
    "df = df.sample(frac=1).reset_index(drop=True)"
   ]
  },
  {
   "cell_type": "code",
   "execution_count": 4,
   "metadata": {},
   "outputs": [
    {
     "name": "stdout",
     "output_type": "stream",
     "text": [
      "    laser_0   laser_1   laser_2   laser_3   laser_4   laser_5   laser_6  \\\n",
      "0  1.445742  1.447176  1.449060  1.451396  1.454188  1.457442  1.461160   \n",
      "1  0.090631  0.090649  0.090694  0.082322  1.526117  1.530020  1.534413   \n",
      "2  0.090631  0.090648  0.090693  0.082325  1.512301  1.513481  1.515123   \n",
      "3  0.090747  0.090765  0.090811  0.081970  1.854123  1.855409  1.857268   \n",
      "4  0.088716  0.088727  0.088765  0.088830  0.088923  0.089044  0.089192   \n",
      "\n",
      "    laser_7   laser_8   laser_9  ...  laser_170  laser_171  laser_172  \\\n",
      "0  1.465352  1.470016  1.475166  ...   1.667622   1.664600   1.662099   \n",
      "1  1.539303  1.544705  1.550620  ...   1.596252   1.593861   1.591969   \n",
      "2  1.517243  1.519831  1.522900  ...   1.620029   1.614709   1.609917   \n",
      "3  1.859704  1.862720  1.866454  ...   1.273189   1.268899   1.265020   \n",
      "4  0.089369  0.089573  0.089807  ...   0.092485   0.092236   0.092016   \n",
      "\n",
      "   laser_173  laser_174  laser_175  laser_176  laser_177  laser_178  laser_179  \n",
      "0   1.660122   1.658658   1.657699   1.657257   1.657325   1.657902   1.658992  \n",
      "1   1.590569   1.589658   1.589240   0.086340   0.089423   0.089382   0.089369  \n",
      "2   1.605647   1.601894   1.598645   0.086338   0.089423   0.089383   0.089370  \n",
      "3   1.261555   1.258496   1.255839   0.086725   0.089306   0.089266   0.089253  \n",
      "4   0.091826   0.091665   0.091532   0.091428   0.091352   0.091304   0.091285  \n",
      "\n",
      "[5 rows x 180 columns]\n",
      "laser_0       6\n",
      "laser_1       6\n",
      "laser_2       6\n",
      "laser_3       6\n",
      "laser_4      19\n",
      "             ..\n",
      "laser_175     3\n",
      "laser_176     0\n",
      "laser_177     0\n",
      "laser_178     0\n",
      "laser_179     0\n",
      "Length: 180, dtype: int64\n",
      "          laser_176     laser_177     laser_178     laser_179\n",
      "count  12022.000000  12022.000000  12022.000000  12022.000000\n",
      "mean       0.730483      0.732235      0.732038      0.731836\n",
      "std        0.746999      0.744087      0.743838      0.743571\n",
      "min        0.080658      0.080623      0.080612      0.080627\n",
      "25%        0.086155      0.089456      0.089415      0.089402\n",
      "50%        0.087087      0.090675      0.090630      0.090612\n",
      "75%        1.567972      1.566879      1.566414      1.566668\n",
      "max        2.484068      2.480703      2.478108      2.457208\n"
     ]
    }
   ],
   "source": [
    "# Create a new dataframe with the 'lasers' column as the values of the dataframe, with 180 columns (one for each laser)\n",
    "lasers = pd.DataFrame(df['lasers'].values.tolist(), columns=[f'laser_{i}' for i in range(180)])\n",
    "print(lasers.head())\n",
    "\n",
    "#Check inf values\n",
    "print(lasers.isin([np.inf, -np.inf]).sum())\n",
    "\n",
    "# Describe the columns laser_176, laser_177, laser_178, laser_179\n",
    "print(lasers[['laser_176', 'laser_177', 'laser_178', 'laser_179']].describe())"
   ]
  },
  {
   "cell_type": "code",
   "execution_count": 5,
   "metadata": {},
   "outputs": [],
   "source": [
    "# Change the inf values to 20\n",
    "lasers = lasers.replace([np.inf, -np.inf], 20)\n",
    "\n",
    "# Save the new dataframe to a file named 'data/lasers.tsv'\n",
    "lasers.to_csv('dataset/shuffle_lasers.tsv', sep='\\t', index=False)"
   ]
  },
  {
   "cell_type": "code",
   "execution_count": 6,
   "metadata": {},
   "outputs": [
    {
     "name": "stdout",
     "output_type": "stream",
     "text": [
      "count    12022.000000\n",
      "mean         0.074695\n",
      "std          1.122612\n",
      "min         -1.869818\n",
      "25%         -1.207970\n",
      "50%          0.587583\n",
      "75%          1.138162\n",
      "max          1.696602\n",
      "Name: w, dtype: float64\n"
     ]
    }
   ],
   "source": [
    "# Read the w column from the original dataset\n",
    "w = df['w']\n",
    "\n",
    "print(w.describe())\n",
    "\n",
    "# Save the w column to a file named 'data/w.tsv'\n",
    "w.to_csv('dataset/shuffle_w.tsv', sep='\\t', index=False)"
   ]
  },
  {
   "cell_type": "code",
   "execution_count": 7,
   "metadata": {},
   "outputs": [],
   "source": [
    "X = lasers\n",
    "y = w\n",
    "\n",
    "X_train, X_test, y_train, y_test = train_test_split(X, y, test_size=0.2, random_state=17)\n",
    "X_train.to_csv('dataset/X_train_shuffled.tsv', sep='\\t', index=False)\n",
    "X_test.to_csv('dataset/X_test_shuffled.tsv', sep='\\t', index=False)\n",
    "y_train.to_csv('dataset/y_train_shuffled.tsv', sep='\\t', index=False)\n",
    "y_test.to_csv('dataset/y_test_shuffled.tsv', sep='\\t', index=False)"
   ]
  }
 ],
 "metadata": {
  "kernelspec": {
   "display_name": "Python 3",
   "language": "python",
   "name": "python3"
  },
  "language_info": {
   "codemirror_mode": {
    "name": "ipython",
    "version": 3
   },
   "file_extension": ".py",
   "mimetype": "text/x-python",
   "name": "python",
   "nbconvert_exporter": "python",
   "pygments_lexer": "ipython3",
   "version": "3.11.4"
  }
 },
 "nbformat": 4,
 "nbformat_minor": 2
}
