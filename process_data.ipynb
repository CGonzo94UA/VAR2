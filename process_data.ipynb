{
 "cells": [
  {
   "cell_type": "code",
   "execution_count": 1,
   "metadata": {},
   "outputs": [],
   "source": [
    "import numpy as np\n",
    "import pandas as pd\n",
    "from sklearn.model_selection import train_test_split"
   ]
  },
  {
   "cell_type": "code",
   "execution_count": 2,
   "metadata": {},
   "outputs": [],
   "source": [
    "# Create an empty dataframe with columns 'lasers', 'v', 'w'\n",
    "df = pd.DataFrame(columns=['lasers', 'v', 'w'])\n",
    "num_files = 2\n",
    "# Read the files dataset/data/i_data.tsv from 0 to range\n",
    "for i in range(num_files):\n",
    "    data = pd.read_csv(f'dataset/data/{i}_data.tsv', sep='\\t')\n",
    "    data['lasers'] = data['lasers'].apply(lambda x: x.replace('(', '').replace(')', ''))\n",
    "    data['lasers'] = data['lasers'].apply(lambda x: list(map(float, x.split(','))))\n",
    "    # Append the data to the dataframe\n",
    "    df = pd.concat([df, data], ignore_index=True)"
   ]
  },
  {
   "cell_type": "code",
   "execution_count": 4,
   "metadata": {},
   "outputs": [
    {
     "name": "stdout",
     "output_type": "stream",
     "text": [
      "    laser_0   laser_1   laser_2   laser_3   laser_4   laser_5   laser_6  \\\n",
      "0  1.547417  1.547695  1.548456  1.549689  1.551408  1.553604  1.556287   \n",
      "1  1.547417  1.547695  1.548456  1.549689  1.551408  1.553604  1.556287   \n",
      "2  1.547417  1.547695  1.548456  1.549689  1.551408  1.553604  1.556287   \n",
      "3  1.547417  1.547695  1.548456  1.549689  1.551408  1.553604  1.556287   \n",
      "4  1.547417  1.547695  1.548456  1.549689  1.551408  1.553604  1.556287   \n",
      "\n",
      "    laser_7   laser_8   laser_9  ...  laser_170  laser_171  laser_172  \\\n",
      "0  1.559463  1.563129  1.567301  ...   1.573106   1.568969   1.565328   \n",
      "1  1.559463  1.563129  1.567301  ...   1.573106   1.568969   1.565328   \n",
      "2  1.559463  1.563129  1.567301  ...   1.573106   1.568969   1.565328   \n",
      "3  1.559463  1.563129  1.567301  ...   1.573106   1.568969   1.565328   \n",
      "4  1.559463  1.563129  1.567301  ...   1.573106   1.568969   1.565328   \n",
      "\n",
      "   laser_173  laser_174  laser_175  laser_176  laser_177  laser_178  laser_179  \n",
      "0   1.562186   1.559538   1.557375   1.555695   1.554498   1.553783   1.553541  \n",
      "1   1.562186   1.559538   1.557375   1.555695   1.554498   1.553783   1.553541  \n",
      "2   1.562186   1.559538   1.557375   1.555695   1.554498   1.553783   1.553541  \n",
      "3   1.562186   1.559538   1.557375   1.555695   1.554498   1.553783   1.553541  \n",
      "4   1.562186   1.559538   1.557375   1.555695   1.554498   1.553783   1.553541  \n",
      "\n",
      "[5 rows x 180 columns]\n",
      "laser_0       6\n",
      "laser_1       6\n",
      "laser_2       6\n",
      "laser_3       6\n",
      "laser_4      19\n",
      "             ..\n",
      "laser_175     3\n",
      "laser_176     0\n",
      "laser_177     0\n",
      "laser_178     0\n",
      "laser_179     0\n",
      "Length: 180, dtype: int64\n",
      "         laser_176    laser_177    laser_178    laser_179\n",
      "count  4020.000000  4020.000000  4020.000000  4020.000000\n",
      "mean      0.819429     0.821308     0.820969     0.821328\n",
      "std       0.754329     0.751432     0.751178     0.751427\n",
      "min       0.081698     0.081862     0.081849     0.081860\n",
      "25%       0.085411     0.090068     0.090025     0.090010\n",
      "50%       0.093666     0.093581     0.093524     0.093497\n",
      "75%       1.586021     1.585266     1.586107     1.585834\n",
      "max       2.470845     2.464247     2.458435     2.453407\n"
     ]
    }
   ],
   "source": [
    "# Create a new dataframe with the 'lasers' column as the values of the dataframe, with 180 columns (one for each laser)\n",
    "lasers = pd.DataFrame(data['lasers'].values.tolist(), columns=[f'laser_{i}' for i in range(180)])\n",
    "print(lasers.head())\n",
    "\n",
    "#Check inf values\n",
    "print(lasers.isin([np.inf, -np.inf]).sum())\n",
    "\n",
    "# Describe the columns laser_176, laser_177, laser_178, laser_179\n",
    "print(lasers[['laser_176', 'laser_177', 'laser_178', 'laser_179']].describe())"
   ]
  },
  {
   "cell_type": "code",
   "execution_count": 5,
   "metadata": {},
   "outputs": [
    {
     "name": "stdout",
     "output_type": "stream",
     "text": [
      "           laser_0      laser_1      laser_2      laser_3      laser_4  \\\n",
      "count  4020.000000  4020.000000  4020.000000  4020.000000  4020.000000   \n",
      "mean      0.840155     0.840561     0.842057     0.840123     1.558181   \n",
      "std       1.347194     1.347413     1.347926     1.349697     2.011609   \n",
      "min       0.081962     0.081951     0.081965     0.081591     0.082069   \n",
      "25%       0.089959     0.089974     0.090017     0.085448     1.394835   \n",
      "50%       0.093111     0.093137     0.093366     0.093451     1.514161   \n",
      "75%       1.512292     1.511555     1.513558     1.514673     1.587837   \n",
      "max      30.000000    30.000000    30.000000    30.000000    30.000000   \n",
      "\n",
      "           laser_5      laser_6      laser_7      laser_8      laser_9  ...  \\\n",
      "count  4020.000000  4020.000000  4020.000000  4020.000000  4020.000000  ...   \n",
      "mean      1.559908     1.562907     1.619509     1.624911     1.629438  ...   \n",
      "std       2.011795     2.012223     1.992921     1.992850     1.993041  ...   \n",
      "min       0.082160     0.082275     0.082417     0.082584     0.082777  ...   \n",
      "25%       1.395703     1.397675     1.419840     1.423832     1.428524  ...   \n",
      "50%       1.515485     1.517314     1.526833     1.530388     1.534149  ...   \n",
      "75%       1.590492     1.593343     1.605210     1.610771     1.615208  ...   \n",
      "max      30.000000    30.000000    30.000000    30.000000    30.000000  ...   \n",
      "\n",
      "         laser_170    laser_171    laser_172    laser_173    laser_174  \\\n",
      "count  4020.000000  4020.000000  4020.000000  4020.000000  4020.000000   \n",
      "mean      1.584300     1.573741     1.569688     1.514761     1.493472   \n",
      "std       1.321049     1.242765     1.242479     1.270490     1.007969   \n",
      "min       0.082671     0.082478     0.082311     0.082171     0.082055   \n",
      "25%       1.503372     1.497429     1.493934     1.462809     1.462592   \n",
      "50%       1.593921     1.589637     1.585836     1.579313     1.576659   \n",
      "75%       1.692727     1.688260     1.684126     1.676325     1.673816   \n",
      "max      30.000000    30.000000    30.000000    30.000000    30.000000   \n",
      "\n",
      "         laser_175    laser_176    laser_177    laser_178    laser_179  \n",
      "count  4020.000000  4020.000000  4020.000000  4020.000000  4020.000000  \n",
      "mean      1.484815     0.819429     0.821308     0.820969     0.821328  \n",
      "std       0.901898     0.754329     0.751432     0.751178     0.751427  \n",
      "min       0.081966     0.081698     0.081862     0.081849     0.081860  \n",
      "25%       1.460296     0.085411     0.090068     0.090025     0.090010  \n",
      "50%       1.574868     0.093666     0.093581     0.093524     0.093497  \n",
      "75%       1.670697     1.586021     1.585266     1.586107     1.585834  \n",
      "max      30.000000     2.470845     2.464247     2.458435     2.453407  \n",
      "\n",
      "[8 rows x 180 columns]\n"
     ]
    }
   ],
   "source": [
    "# Change the inf values to 20\n",
    "lasers = lasers.replace([np.inf, -np.inf], 20)\n",
    "\n",
    "# Save the new dataframe to a file named 'data/lasers.tsv'\n",
    "lasers.to_csv('dataset/lasers.tsv', sep='\\t', index=False)"
   ]
  },
  {
   "cell_type": "code",
   "execution_count": 18,
   "metadata": {},
   "outputs": [],
   "source": [
    "# Read the w column from the original dataset\n",
    "w = data['w']\n",
    "\n",
    "print(w.describe())\n",
    "\n",
    "# Save the w column to a file named 'data/w.tsv'\n",
    "w.to_csv('dataset/w.tsv', sep='\\t', index=False)"
   ]
  },
  {
   "cell_type": "code",
   "execution_count": 19,
   "metadata": {},
   "outputs": [],
   "source": [
    "X = lasers\n",
    "y = w\n",
    "\n",
    "X_train, X_test, y_train, y_test = train_test_split(X, y, test_size=0.2, random_state=17)\n",
    "X_train.to_csv('dataset/X_train.tsv', sep='\\t', index=False)\n",
    "X_test.to_csv('dataset/X_test.tsv', sep='\\t', index=False)\n",
    "y_train.to_csv('dataset/y_train.tsv', sep='\\t', index=False)\n",
    "y_test.to_csv('dataset/y_test.tsv', sep='\\t', index=False)"
   ]
  }
 ],
 "metadata": {
  "kernelspec": {
   "display_name": "Python 3",
   "language": "python",
   "name": "python3"
  },
  "language_info": {
   "codemirror_mode": {
    "name": "ipython",
    "version": 3
   },
   "file_extension": ".py",
   "mimetype": "text/x-python",
   "name": "python",
   "nbconvert_exporter": "python",
   "pygments_lexer": "ipython3",
   "version": "3.11.4"
  }
 },
 "nbformat": 4,
 "nbformat_minor": 2
}
