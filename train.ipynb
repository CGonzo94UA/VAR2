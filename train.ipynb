{
 "cells": [
  {
   "cell_type": "code",
   "execution_count": 2,
   "metadata": {},
   "outputs": [],
   "source": [
    "import numpy as np\n",
    "import pandas as pd\n",
    "from sklearn.preprocessing import MinMaxScaler, StandardScaler\n",
    "from sklearn.model_selection import train_test_split\n",
    "\n",
    "import tensorflow as tf\n",
    "from tensorflow import keras\n",
    "from tensorflow.keras import layers\n",
    "\n",
    "from sklearn.ensemble import RandomForestRegressor\n",
    "from sklearn import metrics\n",
    "from sklearn.model_selection import GridSearchCV \n",
    "\n",
    "import sys\n",
    "from contextlib import redirect_stdout\n",
    "\n",
    "\n",
    "import matplotlib.pyplot as plt\n",
    "import joblib"
   ]
  },
  {
   "cell_type": "code",
   "execution_count": 10,
   "metadata": {},
   "outputs": [],
   "source": [
    "num_samples = 4000"
   ]
  },
  {
   "cell_type": "code",
   "execution_count": 11,
   "metadata": {},
   "outputs": [],
   "source": [
    "if num_samples > 0:\n",
    "    num_data = str(num_samples)\n",
    "else:\n",
    "    num_data = ''"
   ]
  },
  {
   "cell_type": "code",
   "execution_count": 12,
   "metadata": {},
   "outputs": [],
   "source": [
    "# Read the data from the files\n",
    "X_train_raw = pd.read_csv(f'dataset/X_train{num_data}.tsv', sep='\\t')\n",
    "X_test_raw = pd.read_csv(f'dataset/X_test{num_data}.tsv', sep='\\t')\n",
    "y_train = pd.read_csv(f'dataset/y_train{num_data}.tsv', sep='\\t')\n",
    "y_test = pd.read_csv(f'dataset/y_test{num_data}.tsv', sep='\\t')\n",
    "\n",
    "# Save the current standard output\n",
    "original_stdout = sys.stdout"
   ]
  },
  {
   "cell_type": "code",
   "execution_count": 13,
   "metadata": {},
   "outputs": [],
   "source": [
    "# Input size\n",
    "input_size = X_train_raw.shape[1]"
   ]
  },
  {
   "cell_type": "code",
   "execution_count": 52,
   "metadata": {},
   "outputs": [],
   "source": [
    "# Standardizing data\n",
    "scaler = StandardScaler()\n",
    "scaler.fit(X_train_raw)\n",
    "X_train = scaler.transform(X_train_raw)\n",
    "X_test = scaler.transform(X_test_raw)"
   ]
  },
  {
   "cell_type": "code",
   "execution_count": 14,
   "metadata": {},
   "outputs": [
    {
     "name": "stdout",
     "output_type": "stream",
     "text": [
      "(4000, 1)\n",
      "(4000,)\n"
     ]
    }
   ],
   "source": [
    "print(y_train.shape)\n",
    "# Change the shape of the y_train to a 1d array\n",
    "y_train = y_train.values.ravel()\n",
    "y_test = y_test.values.ravel()\n",
    "print(y_train.shape)"
   ]
  },
  {
   "cell_type": "code",
   "execution_count": 15,
   "metadata": {},
   "outputs": [
    {
     "name": "stdout",
     "output_type": "stream",
     "text": [
      "(4000, 180)\n",
      "(1001, 180)\n"
     ]
    }
   ],
   "source": [
    "X_train = X_train_raw\n",
    "X_test = X_test_raw\n",
    "print(X_train.shape)\n",
    "print(X_test.shape)"
   ]
  },
  {
   "cell_type": "code",
   "execution_count": 19,
   "metadata": {},
   "outputs": [
    {
     "name": "stdout",
     "output_type": "stream",
     "text": [
      "END OF THE CELL\n"
     ]
    }
   ],
   "source": [
    "model_name = f'RF{num_data}'\n",
    "\n",
    "with open(f'reports/{model_name}.txt', 'w') as f:\n",
    "    with redirect_stdout(f):\n",
    "\n",
    "        model = RandomForestRegressor()\n",
    "        model.fit(X_train,y_train)\n",
    "\n",
    "        # Guarda el modelo\n",
    "        joblib.dump(model, f'models/{model_name}.pkl')\n",
    "\n",
    "        # Get the mean absolute error on the validation data\n",
    "        y_pred = model.predict(X_test)\n",
    "        MAE = metrics.mean_absolute_error(y_test , y_pred)\n",
    "        MSE = metrics.mean_squared_error(y_test , y_pred)\n",
    "        r2 = metrics.r2_score(y_test, y_pred)\n",
    "        # Print the metrics with 4 decimal digits\n",
    "        print('Model: ', model_name)\n",
    "        print(f'MAE = {MAE:.4f}')\n",
    "        print(f'MSE = {MSE:.4f}')\n",
    "        print(f'R2 = {r2:.4f}')\n",
    "\n",
    "# Restore the original standard output\n",
    "sys.stdout = original_stdout\n",
    "\n",
    "print(\"END OF THE CELL\")"
   ]
  },
  {
   "cell_type": "code",
   "execution_count": 20,
   "metadata": {},
   "outputs": [],
   "source": [
    "model_name = f'RF{num_data}_GS'\n",
    "\n",
    "param_grid = {\n",
    "    'n_estimators': [100, 200, 300, 500],\n",
    "    'max_depth': [10, 20, 30, 40],\n",
    "    'min_samples_split': [2, 5, 10],\n",
    "    'min_samples_leaf': [1, 2, 4, 5, 10],\n",
    "    'max_features': ['auto', 'sqrt', 'log2', None],\n",
    "    'bootstrap': [True, False],\n",
    "}\n",
    "\n",
    "with open(f'reports/{model_name}.txt', 'w') as f:\n",
    "    with redirect_stdout(f):\n",
    "        print('Model: ', model_name)\n",
    "        modelo_rf = RandomForestRegressor()\n",
    "\n",
    "        grid_search = GridSearchCV(estimator=modelo_rf, param_grid=param_grid, cv=5, scoring='neg_mean_squared_error', verbose=7)\n",
    "        grid_search.fit(X_train, y_train)\n",
    "\n",
    "        print(f'Best parameters: {grid_search.best_params_}')\n",
    "        print(f'Best estimator: {grid_search.best_estimator_}')\n",
    "\n",
    "        # Save the model\n",
    "        joblib.dump(grid_search, f'models/{model_name}.pkl')\n",
    "\n",
    "        # Test the model\n",
    "        y_pred = grid_search.predict(X_test)\n",
    "\n",
    "        print('================================================')\n",
    "        print('================================================')\n",
    "        MAE = metrics.mean_absolute_error(y_test , y_pred)\n",
    "        MSE = metrics.mean_squared_error(y_test , y_pred)\n",
    "        r2 = metrics.r2_score(y_test, y_pred)\n",
    "        print(f'MAE = {MAE:.4f}')\n",
    "        print(f'MSE = {MSE:.4f}')\n",
    "        print(f'R2 = {r2:.4f}')\n",
    "        print('================================================')\n",
    "        print('================================================')\n",
    "\n",
    "# Restore the original standard output\n",
    "sys.stdout = original_stdout\n",
    "\n",
    "print(\"END OF THE CELL\")"
   ]
  },
  {
   "cell_type": "code",
   "execution_count": null,
   "metadata": {},
   "outputs": [],
   "source": [
    "model_name = f'NN{num_data}'\n",
    "\n",
    "with open(f'reports/{model_name}.txt', 'w') as f:\n",
    "    with redirect_stdout(f):\n",
    "\n",
    "        model = keras.Sequential([\n",
    "            layers.Dense(128, input_dim=input_size, activation='relu'),\n",
    "            layers.Dense(64, activation='relu'),\n",
    "            layers.Dense(32, activation='relu'),\n",
    "            layers.Dense(1, activation='linear'),\n",
    "        ])\n",
    "\n",
    "        # Compile the network :\n",
    "        model.compile(loss='mse', optimizer='adam', metrics=['mae', 'mse'])\n",
    "\n",
    "        # Print the model summary\n",
    "        model.summary()\n",
    "\n",
    "        # Train the model\n",
    "        history = model.fit(X_train, y_train, epochs=100, batch_size=32, validation_data=(X_test, y_test))\n",
    "\n",
    "        hist = pd.DataFrame(history.history)\n",
    "        hist['epoch'] = history.epoch\n",
    "        hist.tail()\n",
    "\n",
    "        # Save the model\n",
    "        model.save(f'models/{model_name}.h5')\n",
    "\n",
    "        # Test the model\n",
    "        y_pred = model.predict(X_test)\n",
    "        mse = metrics.mean_squared_error(y_test, y_pred)\n",
    "        mae = metrics.mean_absolute_error(y_test, y_pred)\n",
    "        r2 = metrics.r2_score(y_test, y_pred)\n",
    "\n",
    "        print(f'MSE: {mse}')\n",
    "        print(f'MAE: {mae}')\n",
    "        print(f'R2: {r2}')"
   ]
  },
  {
   "cell_type": "code",
   "execution_count": null,
   "metadata": {},
   "outputs": [],
   "source": [
    "def plot_history(history):\n",
    "  hist = pd.DataFrame(history.history)\n",
    "  hist['epoch'] = history.epoch\n",
    "\n",
    "  plt.figure()\n",
    "  plt.xlabel('Epoch')\n",
    "  plt.ylabel('Mean Abs Error [MAE]')\n",
    "  plt.plot(hist['epoch'], hist['mae'], label='Train Error')\n",
    "  plt.plot(hist['epoch'], hist['val_mae'],  label = 'Val Error')\n",
    "  plt.ylim([0,5])\n",
    "  plt.legend()\n",
    "\n",
    "  plt.figure()\n",
    "  plt.xlabel('Epoch')\n",
    "  plt.ylabel('Mean Square Error [$MAE^2$]')\n",
    "  plt.plot(hist['epoch'], hist['mse'], label='Train Error')\n",
    "  plt.plot(hist['epoch'], hist['val_mse'], label = 'Val Error')\n",
    "  plt.ylim([0,20])\n",
    "  plt.legend()\n",
    "  plt.show()"
   ]
  },
  {
   "cell_type": "code",
   "execution_count": null,
   "metadata": {},
   "outputs": [],
   "source": [
    "plot_history(history)"
   ]
  },
  {
   "cell_type": "code",
   "execution_count": null,
   "metadata": {},
   "outputs": [],
   "source": [
    "plt.scatter(y_test, y_pred)\n",
    "plt.xlabel('True Values [MAE]')\n",
    "plt.ylabel('Predictions [MAE]')\n",
    "plt.axis('equal')\n",
    "plt.axis('square')\n",
    "plt.xlim([0,plt.xlim()[1]])\n",
    "plt.ylim([0,plt.ylim()[1]])\n",
    "_ = plt.plot([-100, 100], [-100, 100])"
   ]
  }
 ],
 "metadata": {
  "kernelspec": {
   "display_name": "Python 3",
   "language": "python",
   "name": "python3"
  },
  "language_info": {
   "codemirror_mode": {
    "name": "ipython",
    "version": 3
   },
   "file_extension": ".py",
   "mimetype": "text/x-python",
   "name": "python",
   "nbconvert_exporter": "python",
   "pygments_lexer": "ipython3",
   "version": "3.11.4"
  }
 },
 "nbformat": 4,
 "nbformat_minor": 2
}
